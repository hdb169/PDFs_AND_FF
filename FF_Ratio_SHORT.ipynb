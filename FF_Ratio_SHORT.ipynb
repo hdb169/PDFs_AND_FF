{
 "cells": [
  {
   "cell_type": "code",
   "execution_count": 286,
   "id": "20b61e75",
   "metadata": {},
   "outputs": [],
   "source": [
    "import matplotlib.pyplot as plt\n",
    "import lhapdf\n",
    "import numpy as np\n",
    "import json\n",
    "import math\n",
    "import pylab\n",
    "import sys"
   ]
  },
  {
   "cell_type": "code",
   "execution_count": 287,
   "id": "cfd5102f",
   "metadata": {},
   "outputs": [],
   "source": [
    "Q2=[4.0,3.898,4.75,4.764,5.5, 4.5]\n",
    "Q=math.sqrt(Q2[0])\n",
    "Q2_str =str(Q*Q)\n",
    "fav=[]\n",
    "unfav=[]\n",
    "ux=[]\n",
    "ubarx=[]\n",
    "dx=[]\n",
    "dbarx=[]"
   ]
  },
  {
   "cell_type": "code",
   "execution_count": 288,
   "id": "84dce89f",
   "metadata": {},
   "outputs": [],
   "source": [
    "#I need x range from 0.3 to 0.7, in the interval of 0.05, so I am doing "
   ]
  },
  {
   "cell_type": "code",
   "execution_count": 289,
   "id": "b06a2dac",
   "metadata": {},
   "outputs": [
    {
     "name": "stdout",
     "output_type": "stream",
     "text": [
      "LHAPDF 6.4.0 loading all 1 PDFs in set cteq6l1\n"
     ]
    }
   ],
   "source": [
    "set_cteq6 = lhapdf.getPDFSet(\"cteq6l1\")\n",
    "p_cteq6 = set_cteq6.mkPDFs()\n",
    "#for x in np.arange(0.5,0.65,0.05):\n",
    "for x in np.arange(0.35,0.65,0.05):\n",
    "    ux.append(p_cteq6[0].xfxQ(2,x,Q))\n",
    "    dx.append(p_cteq6[0].xfxQ(1,x,Q))\n",
    "    ubarx.append(p_cteq6[0].xfxQ(-2,x,Q))\n",
    "    dbarx.append(p_cteq6[0].xfxQ(-1,x,Q))"
   ]
  },
  {
   "cell_type": "code",
   "execution_count": 290,
   "id": "4d00f246",
   "metadata": {
    "scrolled": true
   },
   "outputs": [
    {
     "name": "stdout",
     "output_type": "stream",
     "text": [
      "cteq6l1, version 4; 1 PDF members\n",
      "x =  [0.35 0.4  0.45 0.5  0.55 0.6  0.65]\n",
      "uv+dv =  [0.71832031 0.61738549 0.50909377 0.40229671 0.30367828 0.21784228\n",
      " 0.14728876]\n",
      "5*(u+d+ubar+dbar) =  [3.89362915 3.26381309 2.64346518 2.06230635 1.54274797 1.0998125\n",
      " 0.74051673]\n",
      " u =  [0.53244242 0.4637538  0.38920033 0.31425545 0.24327878 0.17955986\n",
      " 0.1252529 ]\n",
      " d =  [0.21608065 0.17132025 0.12969307 0.09312354 0.06283516 0.03934253\n",
      " 0.02244315]\n",
      "uv =  [0.51921977 0.45503758 0.38369386 0.31099082 0.24150796 0.17870756\n",
      " 0.12490157]\n",
      "dv =  [0.19910054 0.16234791 0.12539991 0.09130588 0.06217031 0.03913471\n",
      " 0.02238719]\n"
     ]
    }
   ],
   "source": [
    "u=np.asarray(ux)\n",
    "d=np.asarray(dx)\n",
    "ubar=np.asarray(ubarx)\n",
    "dbar=np.asarray(dbarx)\n",
    "uv=u-ubar\n",
    "dv=d-dbar\n",
    "#x_values = np.arange(0.25,0.8,0.05)\n",
    "x_values = np.arange(0.35,0.65,0.05)\n",
    "#x_values = np.arange(0.3,0.4,0.05)\n",
    "print(\"x = \",x_values)\n",
    "print(\"uv+dv = \", uv+dv)\n",
    "print(\"5*(u+d+ubar+dbar) = \", 5*(u+d+ubar+dbar))\n",
    "print( \" u = \",u)\n",
    "print(\" d = \",d)\n",
    "print( \"uv = \",uv)\n",
    "print(\"dv = \",dv)\n"
   ]
  },
  {
   "cell_type": "code",
   "execution_count": null,
   "id": "9c103dc0",
   "metadata": {},
   "outputs": [],
   "source": [
    "\n",
    "\n"
   ]
  },
  {
   "cell_type": "code",
   "execution_count": null,
   "id": "fefd81a2",
   "metadata": {},
   "outputs": [],
   "source": []
  },
  {
   "cell_type": "code",
   "execution_count": 291,
   "id": "b0d4b80a",
   "metadata": {},
   "outputs": [
    {
     "name": "stdout",
     "output_type": "stream",
     "text": [
      "LHAPDF 6.4.0 loading all 196 PDFs in set JAM20-SIDIS_FF_pion_nlo\n",
      "JAM20-SIDIS_FF_pion_nlo, version 2; 196 PDF members\n"
     ]
    }
   ],
   "source": [
    "set_jam20ff = lhapdf.getPDFSet(\"JAM20-SIDIS_FF_pion_nlo\")\n",
    "p_jam20ff = set_jam20ff.mkPDFs()"
   ]
  },
  {
   "cell_type": "code",
   "execution_count": 292,
   "id": "30b9e9e8",
   "metadata": {},
   "outputs": [
    {
     "name": "stdout",
     "output_type": "stream",
     "text": [
      "shape of FavFF =  (50,)\n",
      "shape of UNFavFF =  (50,)\n",
      "shape of Ratio =  (50,)\n"
     ]
    }
   ],
   "source": [
    "#for z in np.arange(0,1,0.01):\n",
    "for z in np.arange(0.01,1,0.02):\n",
    "    fav.append(p_jam20ff[0].xfxQ(2,z,Q))\n",
    "    unfav.append(p_jam20ff[0].xfxQ(1,z,Q))\n",
    "favff=np.asarray(fav)\n",
    "unfavff=np.asarray(unfav)\n",
    "ratio =unfavff /favff\n",
    "z_axis = np.arange(0.01,1.0,0.02)\n",
    "#print(\"z = \",z_axis)\n",
    "#print(\"FF = \",favff)\n",
    "#print(\"UnFF = \", unfav)\n",
    "#print(\"ratio =\", ratio)\n",
    "print(\"shape of FavFF = \",np.shape(favff))\n",
    "print(\"shape of UNFavFF = \",np.shape(unfavff))\n",
    "print(\"shape of Ratio = \",np.shape(ratio))\n"
   ]
  },
  {
   "cell_type": "code",
   "execution_count": 293,
   "id": "9acad07f",
   "metadata": {},
   "outputs": [
    {
     "name": "stdout",
     "output_type": "stream",
     "text": [
      "shape of z_axis =  (50,)\n"
     ]
    },
    {
     "data": {
      "image/png": "[encoded data removed]",
      "text/plain": [
       "<Figure size 432x288 with 1 Axes>"
      ]
     },
     "metadata": {
      "needs_background": "light"
     },
     "output_type": "display_data"
    }
   ],
   "source": [
    "fig = plt.figure()  \n",
    "ax=fig.add_subplot()\n",
    "#ax.set_xscale('log')\n",
    "#ax.set_yscale('log')\n",
    "z_axis = np.arange(0.01,1.0,0.02)\n",
    "print(\"shape of z_axis = \",np.shape(z_axis))\n",
    "plt.plot(z_axis,favff,label=r\"$D_{u}^{+}$\")\n",
    "plt.plot(z_axis,unfavff,label=r\"$D_{u}^{-}$\")\n",
    "plt.plot(z_axis,ratio,label=r\"$D_{u}^{-}$/$D_{u}^{+}$\")\n",
    "\n",
    "#plt.axis([0.3,1, 0, 0.6])\n",
    "plt.axis([0.01,1, 0, 1])\n",
    "plt.xlabel(\"z\")\n",
    "plt.ylabel(r\"zf(z,$Q^2$)\")\n",
    "Q2_str =str(Q*Q)\n",
    "plt.title(r\"$Q^2$ = \"+Q2_str[0:5] +\"$GeV^2$\")\n",
    "plt.legend()\n",
    "plt.grid()\n"
   ]
  },
  {
   "cell_type": "code",
   "execution_count": 294,
   "id": "68e68afd",
   "metadata": {},
   "outputs": [],
   "source": [
    "yield_diff_over_sum_D2_num_0p35 = 0.71832031*(favff - unfavff)\n",
    "yield_diff_over_sum_D2_den_0p35 = 3.89362915*(favff+unfavff)\n",
    "yield_diff_over_sum_D2_num_0p40 = 0.61738549*(favff - unfavff)\n",
    "yield_diff_over_sum_D2_den_0p40 = 3.26381309*(favff+unfavff)\n",
    "yield_diff_over_sum_D2_num_0p45 = 0.50909377*(favff - unfavff)\n",
    "yield_diff_over_sum_D2_den_0p45 = 2.64346518*(favff+unfavff)\n",
    "yield_diff_over_sum_D2_num_0p50 = 0.40229671*(favff - unfavff)\n",
    "yield_diff_over_sum_D2_den_0p50 = 2.06230635*(favff+unfavff)\n",
    "yield_diff_over_sum_D2_num_0p55 = 0.30367828*(favff - unfavff)\n",
    "yield_diff_over_sum_D2_den_0p55 = 1.54274797*(favff+unfavff)\n",
    "yield_diff_over_sum_D2_num_0p60 = 0.21784228*(favff - unfavff)\n",
    "yield_diff_over_sum_D2_den_0p60 = 1.0998125*(favff+unfavff)\n",
    "yield_diff_over_sum_D2_num_0p65 = 0.14728876*(favff - unfavff)\n",
    "yield_diff_over_sum_D2_den_0p65 = 0.74051673*(favff+unfavff)\n"
   ]
  },
  {
   "cell_type": "code",
   "execution_count": 295,
   "id": "21e87f33",
   "metadata": {},
   "outputs": [
    {
     "name": "stdout",
     "output_type": "stream",
     "text": [
      "shape favff =  (50,)\n",
      "shape unfavff =  (50,)\n",
      "shape d2_diff_over_sum  = (50,)\n",
      "shape ratio shape =  (50,)\n",
      "shape Numerator =  (50,)\n",
      "shape Dumerator =  (50,)\n",
      "shape z_axis = (50,)\n",
      "shape of z = ()\n"
     ]
    }
   ],
   "source": [
    "d2_diff_over_sum_0p35 = yield_diff_over_sum_D2_num_0p35 / yield_diff_over_sum_D2_den_0p35\n",
    "d2_diff_over_sum_0p40 = yield_diff_over_sum_D2_num_0p40 / yield_diff_over_sum_D2_den_0p40\n",
    "d2_diff_over_sum_0p45 = yield_diff_over_sum_D2_num_0p45 / yield_diff_over_sum_D2_den_0p45\n",
    "d2_diff_over_sum_0p50 = yield_diff_over_sum_D2_num_0p50 / yield_diff_over_sum_D2_den_0p50\n",
    "d2_diff_over_sum_0p55 = yield_diff_over_sum_D2_num_0p55 / yield_diff_over_sum_D2_den_0p55\n",
    "d2_diff_over_sum_0p60 = yield_diff_over_sum_D2_num_0p60 / yield_diff_over_sum_D2_den_0p60\n",
    "d2_diff_over_sum_0p65 = yield_diff_over_sum_D2_num_0p65 / yield_diff_over_sum_D2_den_0p65\n",
    "\n",
    "\n",
    "\n",
    "\n",
    "print(\"shape favff = \",np.shape(favff))\n",
    "print(\"shape unfavff = \",np.shape(unfavff))\n",
    "print(\"shape d2_diff_over_sum  =\",np.shape(d2_diff_over_sum_0p40))\n",
    "print(\"shape ratio shape = \",np.shape(d2_diff_over_sum_0p40))\n",
    "print(\"shape Numerator = \",np.shape(yield_diff_over_sum_D2_num_0p40))\n",
    "print(\"shape Dumerator = \",np.shape(yield_diff_over_sum_D2_den_0p40))\n",
    "#z_axis = np.arange(0,1,0.01)\n",
    "z_axis = np.arange(0.01,1,0.02)\n",
    "\n",
    "print(\"shape z_axis =\",np.shape(z_axis))\n",
    "print(\"shape of z =\",np.shape(z))"
   ]
  },
  {
   "cell_type": "code",
   "execution_count": 305,
   "id": "aed71ce2",
   "metadata": {},
   "outputs": [
    {
     "data": {
      "image/png": "[encoded data removed]",
      "text/plain": [
       "<Figure size 432x288 with 1 Axes>"
      ]
     },
     "metadata": {
      "needs_background": "light"
     },
     "output_type": "display_data"
    }
   ],
   "source": [
    "plt.plot(z_axis,d2_diff_over_sum_0p35,label = \"$x = 0.35$\")\n",
    "plt.plot(z_axis,d2_diff_over_sum_0p40,label = \"$x = 0.40$\")\n",
    "plt.plot(z_axis,d2_diff_over_sum_0p45,label = \"$x = 0.45$\")\n",
    "plt.plot(z_axis,d2_diff_over_sum_0p50,label = \"$x = 0.50$\")\n",
    "plt.plot(z_axis,d2_diff_over_sum_0p55,label = \"$x = 0.55$\")\n",
    "plt.plot(z_axis,d2_diff_over_sum_0p60,label = \"$x = 0.60$\")\n",
    "plt.plot(z_axis,d2_diff_over_sum_0p65,label = \"$x = 0.65$\")\n",
    "plt.legend()\n",
    "\n",
    "\n",
    "#plt.xlim([0.25,0.8])\n",
    "plt.axis([0.25,0.8,0.05,0.175])\n",
    "#plt.axis([0.01,1,0.01,0.22])\n",
    "plt.xlabel(\"z\")\n",
    "plt.ylabel(\"D2 Diff over D2 Sum\")\n",
    "\n",
    "plt.title(\"Diff over Sum Ratio D2: for x = 0.35-0.65, \" \"$Q^2$ = \" +Q2_str[0:5] + \" $ GeV^2$\")\n",
    "plt.grid()\n",
    "plt.show()\n"
   ]
  },
  {
   "cell_type": "code",
   "execution_count": null,
   "id": "502b1cd4",
   "metadata": {},
   "outputs": [],
   "source": []
  },
  {
   "cell_type": "code",
   "execution_count": null,
   "id": "90345854",
   "metadata": {},
   "outputs": [],
   "source": []
  },
  {
   "cell_type": "code",
   "execution_count": null,
   "id": "ff07cff8",
   "metadata": {},
   "outputs": [],
   "source": []
  },
  {
   "cell_type": "code",
   "execution_count": null,
   "id": "11cc6c6f",
   "metadata": {},
   "outputs": [],
   "source": []
  },
  {
   "cell_type": "code",
   "execution_count": null,
   "id": "6b855649",
   "metadata": {},
   "outputs": [],
   "source": []
  },
  {
   "cell_type": "code",
   "execution_count": null,
   "id": "08433bf4",
   "metadata": {},
   "outputs": [],
   "source": []
  },
  {
   "cell_type": "code",
   "execution_count": null,
   "id": "4ddc770a",
   "metadata": {},
   "outputs": [],
   "source": []
  },
  {
   "cell_type": "code",
   "execution_count": null,
   "id": "379d0046",
   "metadata": {},
   "outputs": [],
   "source": []
  },
  {
   "cell_type": "code",
   "execution_count": null,
   "id": "d31470dc",
   "metadata": {},
   "outputs": [],
   "source": []
  },
  {
   "cell_type": "code",
   "execution_count": null,
   "id": "a0c5173d",
   "metadata": {},
   "outputs": [],
   "source": []
  },
  {
   "cell_type": "code",
   "execution_count": null,
   "id": "dee7129b",
   "metadata": {},
   "outputs": [],
   "source": []
  },
  {
   "cell_type": "code",
   "execution_count": null,
   "id": "6b5c38f2",
   "metadata": {},
   "outputs": [],
   "source": []
  }
 ],
 "metadata": {
  "kernelspec": {
   "display_name": "Python 3 (ipykernel)",
   "language": "python",
   "name": "python3"
  },
  "language_info": {
   "codemirror_mode": {
    "name": "ipython",
    "version": 3
   },
   "file_extension": ".py",
   "mimetype": "text/x-python",
   "name": "python",
   "nbconvert_exporter": "python",
   "pygments_lexer": "ipython3",
   "version": "3.7.0"
  }
 },
 "nbformat": 4,
 "nbformat_minor": 5
}
